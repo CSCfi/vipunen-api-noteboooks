{
 "cells": [
  {
   "cell_type": "code",
   "execution_count": null,
   "metadata": {
    "collapsed": false
   },
   "outputs": [],
   "source": [
    "library(jsonlite)\n",
    "library(dplyr)\n",
    "library(tidyr)\n",
    "library(ggplot2)\n",
    "\n",
    "df <- fromJSON(\"http://api.vipunen.fi/api/resources/ytl_arvosanat/data\")"
   ]
  },
  {
   "cell_type": "code",
   "execution_count": null,
   "metadata": {
    "collapsed": true
   },
   "outputs": [],
   "source": [
    "df17K <- df %>% \n",
    "  mutate(arvosanapisteet=as.numeric(arvosanapisteet)) %>% \n",
    "  filter(tutkintokertaKoodi==\"2017K\")\n"
   ]
  },
  {
   "cell_type": "code",
   "execution_count": null,
   "metadata": {
    "collapsed": false
   },
   "outputs": [],
   "source": [
    "df17K %>% select(arvosanapisteet) %>% summary()"
   ]
  },
  {
   "cell_type": "code",
   "execution_count": null,
   "metadata": {
    "collapsed": false
   },
   "outputs": [],
   "source": [
    "df17K %>% filter(koe==\"Englanti, pitkä oppimäärä\") %>% \n",
    "    ggplot() + geom_histogram(aes(arvosanapisteet),binwidth = 1) +\n",
    "  facet_grid(~opetuskieli)\n"
   ]
  }
 ],
 "metadata": {
  "kernelspec": {
   "display_name": "R",
   "language": "R",
   "name": "ir"
  },
  "language_info": {
   "codemirror_mode": "r",
   "file_extension": ".r",
   "mimetype": "text/x-r-source",
   "name": "R",
   "pygments_lexer": "r",
   "version": "3.3.1"
  }
 },
 "nbformat": 4,
 "nbformat_minor": 1
}
