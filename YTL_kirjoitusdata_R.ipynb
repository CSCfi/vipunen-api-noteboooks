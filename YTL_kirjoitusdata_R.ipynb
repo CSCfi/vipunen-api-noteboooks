{
 "cells": [
  {
   "cell_type": "markdown",
   "metadata": {},
   "source": [
    "# Ylioppilastutkintodata\n",
    "\n",
    "Tämä R-kielinen notebook käyttää Vipunen API:n kautta ladattua Suomen ylioppilastutkintadataa. Notebookin ohjeet ovat suomeksi, koska datan otsakkeet ovat suomeksi ja käytännössä dataa on vaikea käpistellä ymmärtämättä suomea. Koodi ja kommentit ovat kuitenkin englanniksi.\n",
    "\n",
    "Aloita ajamalla allaoleva koodinpätkä, joka lataa datan. Koodin voit ajaa valitsemalla solun ja painamalla ctrl+R tai klikkaamalla ylärivin play-nappia. Huomaathan, että datan lataus kestää useita minuutteja. Myöskin kirjastojen lataaminen aiheuttaa varoituksia, joista ei tarvitse huolestua."
   ]
  },
  {
   "cell_type": "code",
   "execution_count": null,
   "metadata": {
    "collapsed": false
   },
   "outputs": [],
   "source": [
    "library(jsonlite)\n",
    "library(dplyr)\n",
    "library(tidyr)\n",
    "library(ggplot2)\n",
    "\n",
    "df <- fromJSON(\"http://api.vipunen.fi/api/resources/ytl_arvosanat/data\")"
   ]
  },
  {
   "cell_type": "code",
   "execution_count": null,
   "metadata": {
    "collapsed": false
   },
   "outputs": [],
   "source": [
    "df17K <- df %>% \n",
    "  mutate(arvosanapisteet=as.numeric(arvosanapisteet)) %>% \n",
    "  filter(tutkintokertaKoodi==\"2017K\")\n",
    "print(\"Kaikkien aineistossa olevien kokeiden arvosanojen jakauma\")\n",
    "df17K %>% select(arvosanapisteet) %>% summary()"
   ]
  },
  {
   "cell_type": "markdown",
   "metadata": {},
   "source": [
    "## Koekoodit\n",
    "\n",
    "Kokeiden käsittelyssä on helpompi käyttää kokeiden täysien nimien sijaan koekoodeja. Käytetyt koodit ja niitä vastaavat kokeet voidaan hakea alla olevalla koodille. "
   ]
  },
  {
   "cell_type": "code",
   "execution_count": null,
   "metadata": {
    "collapsed": false
   },
   "outputs": [],
   "source": [
    "koeKoodit = select(df, koeKoodi, koe) %>% distinct()\n",
    "print(\"Aineistossa käytetyt koekoodit ja niitä vastaavat selitteet\")\n",
    "print(koeKoodit)"
   ]
  },
  {
   "cell_type": "markdown",
   "metadata": {},
   "source": [
    "## Englanti, pitkä oppimäärä\n",
    "\n",
    "Tarkastellaan ensin opetuskielen ja pitkän englannin suhdetta. Voidaanko ruotsin- ja suomenkielisten taidoissa nähdä olevan eroja?\n"
   ]
  },
  {
   "cell_type": "code",
   "execution_count": null,
   "metadata": {
    "collapsed": false
   },
   "outputs": [],
   "source": [
    "options(repr.plot.width=6, repr.plot.height=3)\n",
    "df17K %>% filter(koeKoodi==\"EA\") %>% \n",
    "    ggplot() + geom_histogram(aes(arvosanapisteet),binwidth = 1) +\n",
    "  facet_grid(~opetuskieli) + ggtitle(\"Pitkän englannin arvosanat opetuskielittäin\")\n"
   ]
  },
  {
   "cell_type": "markdown",
   "metadata": {},
   "source": [
    "# Äidinkieli\n",
    "\n",
    "Alla piirretään kaikkien äidinkielen kokeiden arvosanojen jakauma sukupuolittain. Äidinkielen kokeita aineistossa on suomen (A), ruotsin (O), pohjoissaamen (Z) ja inarinsaamen (I) kielillä."
   ]
  },
  {
   "cell_type": "code",
   "execution_count": null,
   "metadata": {
    "collapsed": false
   },
   "outputs": [],
   "source": [
    "df17K %>% filter(koeKoodi %in% c(\"A\", \"O\", \"I\", \"Z\")) %>% \n",
    "    ggplot() + geom_histogram(aes(arvosanapisteet),binwidth = 1) +\n",
    "  facet_grid(~sukupuoli) + ggtitle(\"Äidinkielen kokeiden arvosanat\")"
   ]
  },
  {
   "cell_type": "markdown",
   "metadata": {
    "collapsed": false
   },
   "source": [
    "## Matematiikka\n",
    "\n",
    "Piirretään pitkän sekä lyhyen matematiikan arvosanajakaumat sukupuolittain."
   ]
  },
  {
   "cell_type": "code",
   "execution_count": null,
   "metadata": {
    "collapsed": false
   },
   "outputs": [],
   "source": [
    "df17K %>% filter(koeKoodi==\"M\") %>% \n",
    "    ggplot() + geom_histogram(aes(arvosanapisteet),binwidth = 1) +\n",
    "  facet_grid(~sukupuoli) + ggtitle(\"Pitkän matematiikan arvosanat\")"
   ]
  },
  {
   "cell_type": "code",
   "execution_count": null,
   "metadata": {
    "collapsed": false
   },
   "outputs": [],
   "source": [
    "df17K %>% filter(koeKoodi==\"N\") %>% \n",
    "    ggplot() + geom_histogram(aes(arvosanapisteet),binwidth = 1) +\n",
    "  facet_grid(~sukupuoli) + ggtitle(\"Lyhyen matematiikan arvosanat\")"
   ]
  },
  {
   "cell_type": "markdown",
   "metadata": {},
   "source": [
    "Seuraavaksi voi soveltaa ja kokeilla omia hakujasi dataan. Koodilaatikoita voi lisätä perään Insert > Insert Cell Below."
   ]
  }
 ],
 "metadata": {
  "kernelspec": {
   "display_name": "R",
   "language": "R",
   "name": "ir"
  },
  "language_info": {
   "codemirror_mode": "r",
   "file_extension": ".r",
   "mimetype": "text/x-r-source",
   "name": "R",
   "pygments_lexer": "r",
   "version": "3.3.1"
  }
 },
 "nbformat": 4,
 "nbformat_minor": 1
}
