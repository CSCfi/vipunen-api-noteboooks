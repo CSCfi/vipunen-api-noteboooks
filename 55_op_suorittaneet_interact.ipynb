{
 "cells": [
  {
   "cell_type": "markdown",
   "metadata": {
    "extensions": {
     "jupyter_dashboards": {
      "version": 1,
      "views": {
       "grid_default": {
        "col": 0,
        "height": 5,
        "hidden": false,
        "row": 0,
        "width": 12
       },
       "report_default": {
        "hidden": false
       }
      }
     }
    }
   },
   "source": [
    "# 55 Opintopistettä suorittaneet - esimerkki\n",
    "\n",
    "Tämä notebook avaa 55 opintopistettä suorittaneiden tilastoja. \n",
    "\n",
    "Johtoajatuksena on esitellä miten dataa voisi antaa käpistellä hieman siten, että käyttäjän ei tarvitse itse koodata.\n",
    "\n",
    "**Aja jokainen koodisolu valitsemalla se ja painamalla CTRL+Enter**"
   ]
  },
  {
   "cell_type": "code",
   "execution_count": null,
   "metadata": {
    "collapsed": false
   },
   "outputs": [],
   "source": [
    "# This is to demonstrate handling downloading a resource requiring simple token authentication\n",
    "\n",
    "import getpass\n",
    "\n",
    "password = getpass.getpass(\"please give password\")"
   ]
  },
  {
   "cell_type": "code",
   "execution_count": null,
   "metadata": {
    "collapsed": false,
    "extensions": {
     "jupyter_dashboards": {
      "version": 1,
      "views": {
       "grid_default": {
        "col": 0,
        "height": 4,
        "hidden": false,
        "row": 30,
        "width": 12
       },
       "report_default": {
        "hidden": false
       }
      }
     }
    }
   },
   "outputs": [],
   "source": [
    "from ipywidgets import interact\n",
    "# download the data to a local file\n",
    "# thias may take a while\n",
    "from urllib.request import urlretrieve\n",
    "\n",
    "destination = \"/tmp/ytl_arvosanat.json\"\n",
    "#note we could use password here to authenticate outside the scope of this dashboard\n",
    "url = \"http://api.vipunen.fi/api/resources/suorittanut55/data\"\n",
    "_,_ = urlretrieve(url, destination)\n"
   ]
  },
  {
   "cell_type": "code",
   "execution_count": null,
   "metadata": {
    "collapsed": false,
    "extensions": {
     "jupyter_dashboards": {
      "version": 1,
      "views": {
       "grid_default": {
        "col": 0,
        "height": 13,
        "hidden": false,
        "row": 34,
        "width": 12
       },
       "report_default": {
        "hidden": false
       }
      }
     }
    }
   },
   "outputs": [],
   "source": [
    "\n",
    "import pandas as pd\n",
    "import json\n",
    "with open(destination, \"r\") as file_:\n",
    "    df = pd.DataFrame.from_records(json.load(file_))\n",
    "\n",
    "df_original = df"
   ]
  },
  {
   "cell_type": "markdown",
   "metadata": {
    "extensions": {
     "jupyter_dashboards": {
      "version": 1,
      "views": {
       "grid_default": {
        "col": 0,
        "height": 5,
        "hidden": false,
        "row": 21,
        "width": 12
       },
       "report_default": {
        "hidden": false
       }
      }
     }
    }
   },
   "source": [
    "## Interact\n",
    "\n",
    "IPywidgetsin interact mahdollistaa interaktiivisten, koodaamattomien näkymien tekemisen.\n"
   ]
  },
  {
   "cell_type": "code",
   "execution_count": null,
   "metadata": {
    "collapsed": false,
    "extensions": {
     "jupyter_dashboards": {
      "version": 1,
      "views": {
       "grid_default": {
        "col": 0,
        "height": 14,
        "hidden": false,
        "row": 47,
        "width": 12
       },
       "report_default": {
        "hidden": false
       }
      }
     }
    }
   },
   "outputs": [],
   "source": [
    "@interact(oppilaitos1=[\"Lappeenrannan teknillinen yliopisto\", \"Aalto-yliopisto\", \"Lahden ammattikorkeakoulu\"],\n",
    "         oppilaitos2=[\"Lappeenrannan teknillinen yliopisto\", \"Aalto-yliopisto\", \"Lahden ammattikorkeakoulu\"],\n",
    "         vuosi=[2018, 2017, 2016, 2015])\n",
    "def compare(oppilaitos1, oppilaitos2, vuosi):\n",
    "    to_compare = (oppilaitos1, oppilaitos2)\n",
    "    one_year = df[df[\"vuosi\"] == int(vuosi)]\n",
    "    one_year[one_year[\"oppilaitos\"].isin(to_compare)].groupby([\"okmOhjauksenAla\", \"oppilaitos\"])[\"suorittanut55\"].sum().plot.barh(title=\"Kahden koulun vertailu\")"
   ]
  },
  {
   "cell_type": "markdown",
   "metadata": {
    "extensions": {
     "jupyter_dashboards": {
      "version": 1,
      "views": {
       "grid_default": {
        "col": 0,
        "height": 4,
        "hidden": false,
        "row": 26,
        "width": 4
       },
       "report_default": {
        "hidden": false
       }
      }
     }
    }
   },
   "source": [
    "On helppo huomata, että vertailu ilman normalisointia on merkityksetöntä: ei ole tiedossa montako opiskelijaa ylipäänsä olisi voinut saada 55op kussakin opinahjossa."
   ]
  },
  {
   "cell_type": "code",
   "execution_count": null,
   "metadata": {
    "collapsed": false,
    "extensions": {
     "jupyter_dashboards": {
      "version": 1,
      "views": {
       "grid_default": {
        "col": 0,
        "height": 16,
        "hidden": false,
        "row": 5,
        "width": 12
       },
       "report_default": {
        "hidden": false
       }
      }
     }
    }
   },
   "outputs": [],
   "source": [
    "@interact(oppilaitos=[\"Lappeenrannan teknillinen yliopisto\", \"Aalto-yliopisto\", \"Lahden ammattikorkeakoulu\"])\n",
    "def plot_it(oppilaitos):\n",
    "    df[df[\"oppilaitos\"] == oppilaitos]\\\n",
    "    .groupby([\"vuosi\"])[\"suorittanut55\"].sum().plot.barh(title=\"Eri vuosien vertailu yhden koulun datasta\")"
   ]
  },
  {
   "cell_type": "markdown",
   "metadata": {},
   "source": [
    "## Merkkijono\n",
    "\n",
    "Syöte voi olla myös vapaa merkkijono, jos halutaan tehdä jotain monimutkaisempaa."
   ]
  },
  {
   "cell_type": "code",
   "execution_count": null,
   "metadata": {
    "collapsed": false,
    "extensions": {
     "jupyter_dashboards": {
      "version": 1,
      "views": {
       "grid_default": {
        "hidden": true
       },
       "report_default": {
        "hidden": false
       }
      }
     }
    }
   },
   "outputs": [],
   "source": [
    "@interact(school=\"Aalto-yliopisto\")\n",
    "def one_degree_program(school):\n",
    "    field = \"Tietojenkäsittely- ja tietoliikenne ICT), monialaiset koulutusohjelmat \"\n",
    "    title = \"Vuosivertailu {0}:n ohjelmasta {1}\".format(school, field)\n",
    "\n",
    "    df[(df[\"oppilaitos\"] == school) \n",
    "             & (df_original[\"koulutusala(taso3)\"] == field)\n",
    "            ].groupby([\"vuosi\"])[\"suorittanut55\"].sum().plot.barh(title=title)"
   ]
  }
 ],
 "metadata": {
  "extensions": {
   "jupyter_dashboards": {
    "activeView": "grid_default",
    "version": 1,
    "views": {
     "grid_default": {
      "cellMargin": 10,
      "defaultCellHeight": 20,
      "maxColumns": 12,
      "name": "grid",
      "type": "grid"
     },
     "report_default": {
      "name": "report",
      "type": "report"
     }
    }
   }
  },
  "kernelspec": {
   "display_name": "Python 3",
   "language": "python",
   "name": "python3"
  },
  "language_info": {
   "codemirror_mode": {
    "name": "ipython",
    "version": 3
   },
   "file_extension": ".py",
   "mimetype": "text/x-python",
   "name": "python",
   "nbconvert_exporter": "python",
   "pygments_lexer": "ipython3",
   "version": "3.5.2"
  },
  "widgets": {
   "state": {
    "58d21ebd2dd340a3a248bb01459f72d1": {
     "views": [
      {
       "cell_index": 5
      }
     ]
    },
    "85120b27525b42ce9e6ab1f156cc28eb": {
     "views": [
      {
       "cell_index": 9
      }
     ]
    },
    "aefaa27c028c44399ffb098ad2de5ad2": {
     "views": [
      {
       "cell_index": 7
      }
     ]
    }
   },
   "version": "1.2.0"
  }
 },
 "nbformat": 4,
 "nbformat_minor": 1
}
