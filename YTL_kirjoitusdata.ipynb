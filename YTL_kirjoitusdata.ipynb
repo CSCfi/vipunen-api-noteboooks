{
 "cells": [
  {
   "cell_type": "markdown",
   "metadata": {},
   "source": [
    "# Ylioppilastutkintodata\n",
    "\n",
    "Tämä notebook käyttää Vipunen APIn kautta ladattua ylioppilastutkintadataa. Notebookin ohjeet ovat suomeksi, koska datan otsakkeet ovat suomeksi ja käytännössä dataa on vaikea käpistellä ymmärtämättä suomea. Koodi ja kommentit sentään ovat englanniksi.\n",
    "\n",
    "Aloita ajamalla allaoleva koodinpätkä, joka lataa datan. Koodin voit ajamalla valitsemalla solun ja painamalla ctrl+R tai klikkaamalla ylärivin play-nappia."
   ]
  },
  {
   "cell_type": "code",
   "execution_count": null,
   "metadata": {
    "collapsed": false
   },
   "outputs": [],
   "source": [
    "# download the data to a local file as it is almost 100 megabytes\n",
    "# this will take a while\n",
    "from urllib.request import urlretrieve\n",
    "\n",
    "destination = \"/tmp/ytl_arvosanat.json\"\n",
    "url = \"http://api.vipunen.fi/api/resources/ytl_arvosanat/data\"\n",
    "urlretrieve(url, destination)"
   ]
  },
  {
   "cell_type": "markdown",
   "metadata": {},
   "source": [
    "Lataus on valmis kun harmaan laatikon alle ilmestyy rivi, jonka vasemmassa reunassa on teksti joka näyttää osapuilleen seuraavalta.\n",
    "```\n",
    "Out[5]: ('/tmp/ytl_arvosanat.json', <http.client.HTTPMessage at 0x7f81c437b320>)\n",
    "```\n",
    "\n",
    "Kun data on latautunut, voit ajaa seuraavan solun."
   ]
  },
  {
   "cell_type": "code",
   "execution_count": null,
   "metadata": {
    "collapsed": false
   },
   "outputs": [],
   "source": [
    "import pandas as pd\n",
    "import json\n",
    "with open(destination, \"r\") as file_:\n",
    "    df = pd.DataFrame.from_records(json.load(file_))\n",
    "    \n",
    "df[\"arvosanapisteet\"] = df[[\"arvosanapisteet\"]].astype(int)\n",
    "\n",
    "\n",
    "# pandas is not good about assuming which variables are categorical so we need to help it a bit\n",
    "categorical_variables = [\"opiskelijaKoodi\", \"arvosana\", \n",
    "                         \"arvosanaKoodi\", \"koe\", \"koeKoodi\", \"lukio\", \"lukioKoodi\", \n",
    "                         \"opetuskieli\", \"opetuskieliKoodi\", \"sukupuoli\", \"sukupuoliKoodi\", \n",
    "                         \"oppilaitostyyppi\", \"oppilaitostyyppiKoodi\", \"tutkintokerta\", \n",
    "                         \"tutkintokertaKoodi\"]\n",
    "for var in categorical_variables:\n",
    "    df[var] = df[var].astype('category')\n",
    "\n",
    "original_df = df"
   ]
  },
  {
   "cell_type": "markdown",
   "metadata": {},
   "source": [
    "Noin, nyt data on oikeastaan aika siistissä muodossa ja sitä kelpaa käpistellä esimerkiksi [pandas-kirjastolla](http://pandas.pydata.org/).\n",
    "\n",
    "Rajoitetaan vielä itseämme hieman ja suodatetaan kaikesta datasta vain kevään 2017 kirjoitukset. Datasetistä löytyvät myös 2015S, 2016K ja 2016S mikäli haluat tutkia lisää."
   ]
  },
  {
   "cell_type": "code",
   "execution_count": null,
   "metadata": {
    "collapsed": false
   },
   "outputs": [],
   "source": [
    "df = original_df[original_df.tutkintokertaKoodi == \"2017K\"]\n"
   ]
  },
  {
   "cell_type": "code",
   "execution_count": null,
   "metadata": {
    "collapsed": false
   },
   "outputs": [],
   "source": [
    "df.arvosanapisteet.describe()"
   ]
  },
  {
   "cell_type": "markdown",
   "metadata": {},
   "source": [
    "## Englanti, pitkä oppimäärä\n",
    "\n",
    "Tarkastellaan ensin opetuskielen ja pitkän englannin suhdetta."
   ]
  },
  {
   "cell_type": "code",
   "execution_count": null,
   "metadata": {
    "collapsed": false
   },
   "outputs": [],
   "source": [
    "df[df.koe == \"Englanti, pitkä oppimäärä\"].hist(bins=range(9), by=\"opetuskieli\", sharex=True)"
   ]
  },
  {
   "cell_type": "markdown",
   "metadata": {},
   "source": [
    "Jakauma vaihtelee erittäin paljon tutkintkerrasta toiseen, erityisesti ruotsinkielisillä koska volyymi on niin pientä.\n",
    "\n",
    "Suhteuttaminen ilmiöiden kokoon on paikallaan."
   ]
  },
  {
   "cell_type": "code",
   "execution_count": null,
   "metadata": {
    "collapsed": false
   },
   "outputs": [],
   "source": [
    "df[df.koe == \"Englanti, pitkä oppimäärä\"].hist(bins=range(9), by=\"opetuskieli\", sharex=True, sharey=True)\n"
   ]
  },
  {
   "cell_type": "markdown",
   "metadata": {},
   "source": [
    "## Äidinkieli\n",
    "\n",
    "Tästä klassisesta esimerkistä ei tarvitse varmaan selittää."
   ]
  },
  {
   "cell_type": "code",
   "execution_count": null,
   "metadata": {
    "collapsed": false
   },
   "outputs": [],
   "source": [
    "# Z A and O are codes for Essay writing\n",
    "df[df[\"koeKoodi\"].isin([\"Z\", \"A\", \"O\"])].hist(bins=range(9), by=\"sukupuoli\", sharex=True, sharey=True)"
   ]
  },
  {
   "cell_type": "markdown",
   "metadata": {},
   "source": [
    "## Matematiikka\n",
    "\n",
    "Pitkä matematiikka on koekoodilla M ja lyhyt koodilla N."
   ]
  },
  {
   "cell_type": "code",
   "execution_count": null,
   "metadata": {
    "collapsed": false
   },
   "outputs": [],
   "source": [
    "df[df.koeKoodi == \"M\"].hist(bins=range(9), by=\"sukupuoli\", sharey=True)"
   ]
  },
  {
   "cell_type": "markdown",
   "metadata": {},
   "source": [
    "On \"yleisesti tiedossa\", että pitkä matematiikka on nuorten miesten laji.\n"
   ]
  },
  {
   "cell_type": "code",
   "execution_count": null,
   "metadata": {
    "collapsed": false
   },
   "outputs": [],
   "source": [
    "df[df.koeKoodi == \"N\"].hist(bins=range(9), by=\"sukupuoli\", sharey=True)"
   ]
  },
  {
   "cell_type": "markdown",
   "metadata": {},
   "source": [
    "Lyhyen matematiikan kohdalla taas hyvin kirjoittavien miesten osuus on pienempi."
   ]
  },
  {
   "cell_type": "code",
   "execution_count": null,
   "metadata": {
    "collapsed": false
   },
   "outputs": [],
   "source": [
    "df[df[\"koeKoodi\"].isin([\"M\", \"N\"])].hist(bins=range(9), by=\"sukupuoli\", sharey=True)"
   ]
  },
  {
   "cell_type": "markdown",
   "metadata": {},
   "source": [
    "Arvosanajakauma on paljon tasaisempi kun lyhyen ja pitkän matematiikan kirjoittajat plotataan yhdessä. Käytössä olevan datan perusteella ei voida arvioida johtuuko ero laadullisesta erosta sukupuolten välillä vai erilaisista ympäristötekijöistä."
   ]
  }
 ],
 "metadata": {
  "kernelspec": {
   "display_name": "Python 3",
   "language": "python",
   "name": "python3"
  },
  "language_info": {
   "codemirror_mode": {
    "name": "ipython",
    "version": 3
   },
   "file_extension": ".py",
   "mimetype": "text/x-python",
   "name": "python",
   "nbconvert_exporter": "python",
   "pygments_lexer": "ipython3",
   "version": "3.5.2"
  }
 },
 "nbformat": 4,
 "nbformat_minor": 1
}
