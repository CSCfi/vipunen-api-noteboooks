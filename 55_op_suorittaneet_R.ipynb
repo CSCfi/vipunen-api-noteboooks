{
 "cells": [
  {
   "cell_type": "code",
   "execution_count": null,
   "metadata": {
    "collapsed": false
   },
   "outputs": [],
   "source": [
    "library(jsonlite)\n",
    "library(dplyr)\n",
    "library(tidyr)\n",
    "library(ggplot2)\n",
    "\n",
    "df <- fromJSON(\"http://api.vipunen.fi/api/resources/suorittanut55/data\")"
   ]
  },
  {
   "cell_type": "code",
   "execution_count": null,
   "metadata": {
    "collapsed": false
   },
   "outputs": [],
   "source": [
    "head(df)"
   ]
  },
  {
   "cell_type": "code",
   "execution_count": null,
   "metadata": {
    "collapsed": false
   },
   "outputs": [],
   "source": [
    "df %>% \n",
    "  filter(oppilaitos %in% c(\"Metropolia Ammattikorkeakoulu\",\n",
    "                           \"Lahden ammattikorkeakoulu\"),\n",
    "        vuosi==2016) %>% \n",
    "  ggplot() +\n",
    "  geom_bar(aes(okmOhjauksenAla,weight=suorittanut55,fill=oppilaitos),position=\"dodge\") +\n",
    "  coord_flip()\n"
   ]
  },
  {
   "cell_type": "code",
   "execution_count": null,
   "metadata": {
    "collapsed": false
   },
   "outputs": [],
   "source": [
    "df %>%\n",
    "  mutate(vuosi=factor(vuosi)) %>% \n",
    "  filter(oppilaitos == \"Lappeenrannan teknillinen yliopisto\") %>% \n",
    "  ggplot() +\n",
    "  geom_bar(aes(vuosi,weight=suorittanut55)) +\n",
    "  coord_flip()\n"
   ]
  }
 ],
 "metadata": {
  "kernelspec": {
   "display_name": "R",
   "language": "R",
   "name": "ir"
  },
  "language_info": {
   "codemirror_mode": "r",
   "file_extension": ".r",
   "mimetype": "text/x-r-source",
   "name": "R",
   "pygments_lexer": "r",
   "version": "3.3.1"
  }
 },
 "nbformat": 4,
 "nbformat_minor": 1
}
