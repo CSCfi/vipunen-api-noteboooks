{
 "cells": [
  {
   "cell_type": "markdown",
   "metadata": {},
   "source": [
    "# 55 Opintopistettä suorittaneet\n",
    "\n",
    "Tämä notebook avaa 55 opintopistettä suorittaneiden tilastoja.\n",
    "\n",
    "Harmaalla taustalla olevat solut ovat koodisoluja. Voit ajaa ne valitsemalla solun ja painamalla Ctrl+Enter tai painamalla yläpalkin \"toista\" -nappia."
   ]
  },
  {
   "cell_type": "code",
   "execution_count": null,
   "metadata": {
    "collapsed": false
   },
   "outputs": [],
   "source": [
    "# download the data to a local file\n",
    "# thias may take a while\n",
    "from urllib.request import urlretrieve\n",
    "\n",
    "destination = \"/tmp/ytl_arvosanat.json\"\n",
    "url = \"http://api.vipunen.fi/api/resources/suorittanut55/data\"\n",
    "urlretrieve(url, destination)"
   ]
  },
  {
   "cell_type": "code",
   "execution_count": null,
   "metadata": {
    "collapsed": false
   },
   "outputs": [],
   "source": [
    "import pandas as pd\n",
    "import json\n",
    "with open(destination, \"r\") as file_:\n",
    "    df = pd.DataFrame.from_records(json.load(file_))\n",
    "\n",
    "df_original = df\n",
    "df.head()\n"
   ]
  },
  {
   "cell_type": "markdown",
   "metadata": {},
   "source": [
    "Data sisältää yleisiä alakoodeja 3 tasossa, sekä oppilaitoksen ja vuoden. Jokaisesta koulutusohjelmasta raportoidaan yksi luku vuotta kohti.\n",
    "\n",
    "`oppilaitos` on kenttänä yksiselitteinen. Ei ole täysin selvää miksi sana Ammattikorkeakoulu kirjoitetaan isolla Metropolian yhteydesä mutta pienellä muuten.\n",
    "\n",
    "`okmOhjauksenAla` ei ole suoraan selkeä, eikä datasetin yhteydessä ole hyvää selitystä koodista ja sen tulkitsemisesta. Opetusalaa paremmin tuntevat saattavat tietää mihin jaottelu perustuu."
   ]
  },
  {
   "cell_type": "code",
   "execution_count": null,
   "metadata": {
    "collapsed": false
   },
   "outputs": [],
   "source": [
    "to_compare = \"Lahden ammattikorkeakoulu\", \"Metropolia Ammattikorkeakoulu\"\n",
    "one_year = df[df[\"vuosi\"] == 2016]\n",
    "\n",
    "one_year[one_year[\"oppilaitos\"].isin(to_compare)].groupby([\"okmOhjauksenAla\", \"oppilaitos\"])[\"suorittanut55\"].sum().plot.barh(title=\"Kahden koulun vertailu\")"
   ]
  },
  {
   "cell_type": "markdown",
   "metadata": {},
   "source": [
    "On helppo huomata, että vertailu ilman normalisointia on merkityksetöntä: ei ole tiedossa montako opiskelijaa ylipäänsä olisi voinut saada 55op kussakin opinahjossa."
   ]
  },
  {
   "cell_type": "code",
   "execution_count": null,
   "metadata": {
    "collapsed": false
   },
   "outputs": [],
   "source": [
    "df[df[\"oppilaitos\"] == \"Lappeenrannan teknillinen yliopisto\"]\\\n",
    "    .groupby([\"vuosi\"])[\"suorittanut55\"].sum().plot.barh(title=\"Eri vuosien vertailu yhden koulun datasta\")"
   ]
  },
  {
   "cell_type": "markdown",
   "metadata": {},
   "source": [
    "Entä voisiko yhtä vuotta verrata muihin?\n",
    "\n",
    "Listauksen koulutusohjelmakoodeista saat esimerkiksi seuraavasti"
   ]
  },
  {
   "cell_type": "code",
   "execution_count": null,
   "metadata": {
    "collapsed": false
   },
   "outputs": [],
   "source": [
    "df[df[\"oppilaitos\"] == \"Aalto-yliopisto\"][\"koulutusala(taso3)\"].unique()"
   ]
  },
  {
   "cell_type": "markdown",
   "metadata": {},
   "source": [
    "Tätä voi käyttää yhden koulutusohjelman tietojen seuraamiseen."
   ]
  },
  {
   "cell_type": "code",
   "execution_count": null,
   "metadata": {
    "collapsed": false
   },
   "outputs": [],
   "source": [
    "field = \"Tietojenkäsittely- ja tietoliikenne ICT), monialaiset koulutusohjelmat \"\n",
    "school = \"Aalto-yliopisto\"\n",
    "\n",
    "title = \"Vuosivertailu {0}:n ohjelmasta {1}\".format(school, field)\n",
    "\n",
    "df[(df[\"oppilaitos\"] == school) \n",
    "             & (df_original[\"koulutusala(taso3)\"] == field)\n",
    "            ].groupby([\"vuosi\"])[\"suorittanut55\"].sum().plot.barh(title=title)"
   ]
  }
 ],
 "metadata": {
  "kernelspec": {
   "display_name": "Python 3",
   "language": "python",
   "name": "python3"
  },
  "language_info": {
   "codemirror_mode": {
    "name": "ipython",
    "version": 3
   },
   "file_extension": ".py",
   "mimetype": "text/x-python",
   "name": "python",
   "nbconvert_exporter": "python",
   "pygments_lexer": "ipython3",
   "version": "3.5.2"
  }
 },
 "nbformat": 4,
 "nbformat_minor": 1
}
